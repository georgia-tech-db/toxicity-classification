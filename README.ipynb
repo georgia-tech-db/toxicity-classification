{
 "cells": [
  {
   "attachments": {},
   "cell_type": "markdown",
   "id": "9f2c663c",
   "metadata": {
    "pycharm": {
     "name": "#%% md\n"
    }
   },
   "source": [
    "# Toxicity Detection in Memes | EVA Application"
   ]
  },
  {
   "attachments": {},
   "cell_type": "markdown",
   "id": "4df1d160",
   "metadata": {
    "pycharm": {
     "name": "#%% md\n"
    }
   },
   "source": [
    "<table align=\"left\">\n",
    "  <td>\n",
    "    <a target=\"_blank\" href=\"https://colab.research.google.com/georgia-tech-db/eva-application-template/blob/main/car_plate_detection.ipynb\"><img src=\"https://www.tensorflow.org/images/colab_logo_32px.png\" /> Run on Google Colab</a>\n",
    "  </td>\n",
    "  <td>\n",
    "    <a target=\"_blank\" href=\"https://colab.research.google.com/georgia-tech-db/eva-application-template/blob/main/car_plate_detection.ipynb\"><img src=\"https://www.tensorflow.org/images/GitHub-Mark-32px.png\" /> View source on GitHub</a>\n",
    "  </td>\n",
    "  <td>\n",
    "    <a target=\"_blank\" href=\"https://colab.research.google.com/georgia-tech-db/eva-application-template/blob/main/car_plate_detection.ipynb\"><img src=\"https://www.tensorflow.org/images/download_logo_32px.png\" /> Download notebook</a>\n",
    "  </td>\n",
    "</table>\n",
    "<br>\n",
    "<br>\n",
    "\n"
   ]
  },
  {
   "attachments": {},
   "cell_type": "markdown",
   "id": "7f2f7831",
   "metadata": {},
   "source": [
    "### Install Application Dependecies "
   ]
  },
  {
   "cell_type": "code",
   "execution_count": 20,
   "id": "1787d58b",
   "metadata": {},
   "outputs": [
    {
     "name": "stdout",
     "output_type": "stream",
     "text": [
      "Note: you may need to restart the kernel to use updated packages.\n"
     ]
    }
   ],
   "source": [
    "pip -q install -r requirements.txt"
   ]
  },
  {
   "cell_type": "markdown",
   "id": "691f5c48",
   "metadata": {
    "pycharm": {
     "name": "#%% md\n"
    }
   },
   "source": [
    "### Start EVA server\n",
    "\n",
    "We are reusing the start server notebook for launching the EVA server."
   ]
  },
  {
   "cell_type": "code",
   "execution_count": 21,
   "id": "3309b54e",
   "metadata": {
    "pycharm": {
     "name": "#%%\n"
    }
   },
   "outputs": [
    {
     "name": "stdout",
     "output_type": "stream",
     "text": [
      "File '00-start-eva-server.ipynb' already there; not retrieving.\n",
      "\n",
      "nohup eva_server > eva.log 2>&1 &\n",
      "\n",
      "Note: you may need to restart the kernel to use updated packages.\n"
     ]
    },
    {
     "ename": "ConnectionRefusedError",
     "evalue": "[Errno 111] Connect call failed ('127.0.0.1', 5432)",
     "output_type": "error",
     "traceback": [
      "\u001b[0;31m---------------------------------------------------------------------------\u001b[0m",
      "\u001b[0;31mConnectionRefusedError\u001b[0m                    Traceback (most recent call last)",
      "Cell \u001b[0;32mIn[21], line 3\u001b[0m\n\u001b[1;32m      1\u001b[0m get_ipython()\u001b[39m.\u001b[39msystem(\u001b[39m'\u001b[39m\u001b[39mwget -nc \u001b[39m\u001b[39m\"\u001b[39m\u001b[39mhttps://raw.githubusercontent.com/georgia-tech-db/eva/master/tutorials/00-start-eva-server.ipynb\u001b[39m\u001b[39m\"\u001b[39m\u001b[39m'\u001b[39m)\n\u001b[1;32m      2\u001b[0m get_ipython()\u001b[39m.\u001b[39mrun_line_magic(\u001b[39m'\u001b[39m\u001b[39mrun\u001b[39m\u001b[39m'\u001b[39m, \u001b[39m'\u001b[39m\u001b[39m00-start-eva-server.ipynb\u001b[39m\u001b[39m'\u001b[39m)\n\u001b[0;32m----> 3\u001b[0m cursor \u001b[39m=\u001b[39m connect_to_server()\n",
      "File \u001b[0;32m/tmp/ipykernel_1538646/3150860876.py:59\u001b[0m, in \u001b[0;36mconnect_to_server\u001b[0;34m()\u001b[0m\n\u001b[1;32m     56\u001b[0m nest_asyncio\u001b[39m.\u001b[39mapply()\n\u001b[1;32m     58\u001b[0m \u001b[39m# Connect client with server\u001b[39;00m\n\u001b[0;32m---> 59\u001b[0m connection \u001b[39m=\u001b[39m connect(host \u001b[39m=\u001b[39;49m \u001b[39m'\u001b[39;49m\u001b[39m127.0.0.1\u001b[39;49m\u001b[39m'\u001b[39;49m, port \u001b[39m=\u001b[39;49m \u001b[39m5432\u001b[39;49m) \n\u001b[1;32m     60\u001b[0m cursor \u001b[39m=\u001b[39m connection\u001b[39m.\u001b[39mcursor()\n\u001b[1;32m     62\u001b[0m \u001b[39mreturn\u001b[39;00m cursor\n",
      "File \u001b[0;32m~/.local/lib/python3.8/site-packages/eva/server/db_api.py:145\u001b[0m, in \u001b[0;36mconnect\u001b[0;34m(host, port, max_retry_count)\u001b[0m\n\u001b[1;32m    143\u001b[0m \u001b[39mdef\u001b[39;00m \u001b[39mconnect\u001b[39m(host: \u001b[39mstr\u001b[39m, port: \u001b[39mint\u001b[39m, max_retry_count: \u001b[39mint\u001b[39m \u001b[39m=\u001b[39m \u001b[39m3\u001b[39m):\n\u001b[1;32m    144\u001b[0m     loop \u001b[39m=\u001b[39m asyncio\u001b[39m.\u001b[39mget_event_loop()\n\u001b[0;32m--> 145\u001b[0m     \u001b[39mreturn\u001b[39;00m loop\u001b[39m.\u001b[39;49mrun_until_complete(connect_async(host, port, max_retry_count))\n",
      "File \u001b[0;32m~/.local/lib/python3.8/site-packages/nest_asyncio.py:90\u001b[0m, in \u001b[0;36m_patch_loop.<locals>.run_until_complete\u001b[0;34m(self, future)\u001b[0m\n\u001b[1;32m     87\u001b[0m \u001b[39mif\u001b[39;00m \u001b[39mnot\u001b[39;00m f\u001b[39m.\u001b[39mdone():\n\u001b[1;32m     88\u001b[0m     \u001b[39mraise\u001b[39;00m \u001b[39mRuntimeError\u001b[39;00m(\n\u001b[1;32m     89\u001b[0m         \u001b[39m'\u001b[39m\u001b[39mEvent loop stopped before Future completed.\u001b[39m\u001b[39m'\u001b[39m)\n\u001b[0;32m---> 90\u001b[0m \u001b[39mreturn\u001b[39;00m f\u001b[39m.\u001b[39;49mresult()\n",
      "File \u001b[0;32m/usr/local/lib/python3.8/asyncio/futures.py:178\u001b[0m, in \u001b[0;36mFuture.result\u001b[0;34m(self)\u001b[0m\n\u001b[1;32m    176\u001b[0m \u001b[39mself\u001b[39m\u001b[39m.\u001b[39m__log_traceback \u001b[39m=\u001b[39m \u001b[39mFalse\u001b[39;00m\n\u001b[1;32m    177\u001b[0m \u001b[39mif\u001b[39;00m \u001b[39mself\u001b[39m\u001b[39m.\u001b[39m_exception \u001b[39mis\u001b[39;00m \u001b[39mnot\u001b[39;00m \u001b[39mNone\u001b[39;00m:\n\u001b[0;32m--> 178\u001b[0m     \u001b[39mraise\u001b[39;00m \u001b[39mself\u001b[39m\u001b[39m.\u001b[39m_exception\n\u001b[1;32m    179\u001b[0m \u001b[39mreturn\u001b[39;00m \u001b[39mself\u001b[39m\u001b[39m.\u001b[39m_result\n",
      "File \u001b[0;32m/usr/local/lib/python3.8/asyncio/tasks.py:282\u001b[0m, in \u001b[0;36mTask.__step\u001b[0;34m(***failed resolving arguments***)\u001b[0m\n\u001b[1;32m    280\u001b[0m         result \u001b[39m=\u001b[39m coro\u001b[39m.\u001b[39msend(\u001b[39mNone\u001b[39;00m)\n\u001b[1;32m    281\u001b[0m     \u001b[39melse\u001b[39;00m:\n\u001b[0;32m--> 282\u001b[0m         result \u001b[39m=\u001b[39m coro\u001b[39m.\u001b[39;49mthrow(exc)\n\u001b[1;32m    283\u001b[0m \u001b[39mexcept\u001b[39;00m \u001b[39mStopIteration\u001b[39;00m \u001b[39mas\u001b[39;00m exc:\n\u001b[1;32m    284\u001b[0m     \u001b[39mif\u001b[39;00m \u001b[39mself\u001b[39m\u001b[39m.\u001b[39m_must_cancel:\n\u001b[1;32m    285\u001b[0m         \u001b[39m# Task is cancelled right before coro stops.\u001b[39;00m\n",
      "File \u001b[0;32m~/.local/lib/python3.8/site-packages/eva/server/db_api.py:135\u001b[0m, in \u001b[0;36mconnect_async\u001b[0;34m(host, port, max_retry_count)\u001b[0m\n\u001b[1;32m    133\u001b[0m \u001b[39mexcept\u001b[39;00m \u001b[39mException\u001b[39;00m \u001b[39mas\u001b[39;00m e:\n\u001b[1;32m    134\u001b[0m     \u001b[39mif\u001b[39;00m \u001b[39mnot\u001b[39;00m retries:\n\u001b[0;32m--> 135\u001b[0m         \u001b[39mraise\u001b[39;00m e\n\u001b[1;32m    136\u001b[0m     \u001b[39mawait\u001b[39;00m asyncio\u001b[39m.\u001b[39msleep(retries\u001b[39m.\u001b[39mpop(\u001b[39m0\u001b[39m) \u001b[39m-\u001b[39m random\u001b[39m.\u001b[39mrandom())\n\u001b[1;32m    137\u001b[0m \u001b[39melse\u001b[39;00m:\n",
      "File \u001b[0;32m~/.local/lib/python3.8/site-packages/eva/server/db_api.py:129\u001b[0m, in \u001b[0;36mconnect_async\u001b[0;34m(host, port, max_retry_count)\u001b[0m\n\u001b[1;32m    127\u001b[0m \u001b[39mwhile\u001b[39;00m \u001b[39mTrue\u001b[39;00m:\n\u001b[1;32m    128\u001b[0m     \u001b[39mtry\u001b[39;00m:\n\u001b[0;32m--> 129\u001b[0m         transport, protocol \u001b[39m=\u001b[39m \u001b[39mawait\u001b[39;00m loop\u001b[39m.\u001b[39mcreate_connection(\n\u001b[1;32m    130\u001b[0m             \u001b[39mlambda\u001b[39;00m: EvaClient(), host, port\n\u001b[1;32m    131\u001b[0m         )\n\u001b[1;32m    133\u001b[0m     \u001b[39mexcept\u001b[39;00m \u001b[39mException\u001b[39;00m \u001b[39mas\u001b[39;00m e:\n\u001b[1;32m    134\u001b[0m         \u001b[39mif\u001b[39;00m \u001b[39mnot\u001b[39;00m retries:\n",
      "File \u001b[0;32m/usr/local/lib/python3.8/asyncio/base_events.py:1025\u001b[0m, in \u001b[0;36mBaseEventLoop.create_connection\u001b[0;34m(self, protocol_factory, host, port, ssl, family, proto, flags, sock, local_addr, server_hostname, ssl_handshake_timeout, happy_eyeballs_delay, interleave)\u001b[0m\n\u001b[1;32m   1023\u001b[0m exceptions \u001b[39m=\u001b[39m [exc \u001b[39mfor\u001b[39;00m sub \u001b[39min\u001b[39;00m exceptions \u001b[39mfor\u001b[39;00m exc \u001b[39min\u001b[39;00m sub]\n\u001b[1;32m   1024\u001b[0m \u001b[39mif\u001b[39;00m \u001b[39mlen\u001b[39m(exceptions) \u001b[39m==\u001b[39m \u001b[39m1\u001b[39m:\n\u001b[0;32m-> 1025\u001b[0m     \u001b[39mraise\u001b[39;00m exceptions[\u001b[39m0\u001b[39m]\n\u001b[1;32m   1026\u001b[0m \u001b[39melse\u001b[39;00m:\n\u001b[1;32m   1027\u001b[0m     \u001b[39m# If they all have the same str(), raise one.\u001b[39;00m\n\u001b[1;32m   1028\u001b[0m     model \u001b[39m=\u001b[39m \u001b[39mstr\u001b[39m(exceptions[\u001b[39m0\u001b[39m])\n",
      "File \u001b[0;32m/usr/local/lib/python3.8/asyncio/base_events.py:1010\u001b[0m, in \u001b[0;36mBaseEventLoop.create_connection\u001b[0;34m(self, protocol_factory, host, port, ssl, family, proto, flags, sock, local_addr, server_hostname, ssl_handshake_timeout, happy_eyeballs_delay, interleave)\u001b[0m\n\u001b[1;32m   1008\u001b[0m \u001b[39mfor\u001b[39;00m addrinfo \u001b[39min\u001b[39;00m infos:\n\u001b[1;32m   1009\u001b[0m     \u001b[39mtry\u001b[39;00m:\n\u001b[0;32m-> 1010\u001b[0m         sock \u001b[39m=\u001b[39m \u001b[39mawait\u001b[39;00m \u001b[39mself\u001b[39m\u001b[39m.\u001b[39m_connect_sock(\n\u001b[1;32m   1011\u001b[0m             exceptions, addrinfo, laddr_infos)\n\u001b[1;32m   1012\u001b[0m         \u001b[39mbreak\u001b[39;00m\n\u001b[1;32m   1013\u001b[0m     \u001b[39mexcept\u001b[39;00m \u001b[39mOSError\u001b[39;00m:\n",
      "File \u001b[0;32m/usr/local/lib/python3.8/asyncio/base_events.py:924\u001b[0m, in \u001b[0;36mBaseEventLoop._connect_sock\u001b[0;34m(self, exceptions, addr_info, local_addr_infos)\u001b[0m\n\u001b[1;32m    922\u001b[0m         \u001b[39melse\u001b[39;00m:  \u001b[39m# all bind attempts failed\u001b[39;00m\n\u001b[1;32m    923\u001b[0m             \u001b[39mraise\u001b[39;00m my_exceptions\u001b[39m.\u001b[39mpop()\n\u001b[0;32m--> 924\u001b[0m     \u001b[39mawait\u001b[39;00m \u001b[39mself\u001b[39m\u001b[39m.\u001b[39msock_connect(sock, address)\n\u001b[1;32m    925\u001b[0m     \u001b[39mreturn\u001b[39;00m sock\n\u001b[1;32m    926\u001b[0m \u001b[39mexcept\u001b[39;00m \u001b[39mOSError\u001b[39;00m \u001b[39mas\u001b[39;00m exc:\n",
      "File \u001b[0;32m/usr/local/lib/python3.8/asyncio/selector_events.py:496\u001b[0m, in \u001b[0;36mBaseSelectorEventLoop.sock_connect\u001b[0;34m(self, sock, address)\u001b[0m\n\u001b[1;32m    494\u001b[0m fut \u001b[39m=\u001b[39m \u001b[39mself\u001b[39m\u001b[39m.\u001b[39mcreate_future()\n\u001b[1;32m    495\u001b[0m \u001b[39mself\u001b[39m\u001b[39m.\u001b[39m_sock_connect(fut, sock, address)\n\u001b[0;32m--> 496\u001b[0m \u001b[39mreturn\u001b[39;00m \u001b[39mawait\u001b[39;00m fut\n",
      "File \u001b[0;32m/usr/local/lib/python3.8/asyncio/futures.py:260\u001b[0m, in \u001b[0;36mFuture.__await__\u001b[0;34m(self)\u001b[0m\n\u001b[1;32m    258\u001b[0m \u001b[39mif\u001b[39;00m \u001b[39mnot\u001b[39;00m \u001b[39mself\u001b[39m\u001b[39m.\u001b[39mdone():\n\u001b[1;32m    259\u001b[0m     \u001b[39mself\u001b[39m\u001b[39m.\u001b[39m_asyncio_future_blocking \u001b[39m=\u001b[39m \u001b[39mTrue\u001b[39;00m\n\u001b[0;32m--> 260\u001b[0m     \u001b[39myield\u001b[39;00m \u001b[39mself\u001b[39m  \u001b[39m# This tells Task to wait for completion.\u001b[39;00m\n\u001b[1;32m    261\u001b[0m \u001b[39mif\u001b[39;00m \u001b[39mnot\u001b[39;00m \u001b[39mself\u001b[39m\u001b[39m.\u001b[39mdone():\n\u001b[1;32m    262\u001b[0m     \u001b[39mraise\u001b[39;00m \u001b[39mRuntimeError\u001b[39;00m(\u001b[39m\"\u001b[39m\u001b[39mawait wasn\u001b[39m\u001b[39m'\u001b[39m\u001b[39mt used with future\u001b[39m\u001b[39m\"\u001b[39m)\n",
      "File \u001b[0;32m/usr/local/lib/python3.8/asyncio/tasks.py:349\u001b[0m, in \u001b[0;36mTask.__wakeup\u001b[0;34m(self, future)\u001b[0m\n\u001b[1;32m    347\u001b[0m \u001b[39mdef\u001b[39;00m \u001b[39m__wakeup\u001b[39m(\u001b[39mself\u001b[39m, future):\n\u001b[1;32m    348\u001b[0m     \u001b[39mtry\u001b[39;00m:\n\u001b[0;32m--> 349\u001b[0m         future\u001b[39m.\u001b[39;49mresult()\n\u001b[1;32m    350\u001b[0m     \u001b[39mexcept\u001b[39;00m \u001b[39mBaseException\u001b[39;00m \u001b[39mas\u001b[39;00m exc:\n\u001b[1;32m    351\u001b[0m         \u001b[39m# This may also be a cancellation.\u001b[39;00m\n\u001b[1;32m    352\u001b[0m         \u001b[39mself\u001b[39m\u001b[39m.\u001b[39m__step(exc)\n",
      "File \u001b[0;32m/usr/local/lib/python3.8/asyncio/futures.py:178\u001b[0m, in \u001b[0;36mFuture.result\u001b[0;34m(self)\u001b[0m\n\u001b[1;32m    176\u001b[0m \u001b[39mself\u001b[39m\u001b[39m.\u001b[39m__log_traceback \u001b[39m=\u001b[39m \u001b[39mFalse\u001b[39;00m\n\u001b[1;32m    177\u001b[0m \u001b[39mif\u001b[39;00m \u001b[39mself\u001b[39m\u001b[39m.\u001b[39m_exception \u001b[39mis\u001b[39;00m \u001b[39mnot\u001b[39;00m \u001b[39mNone\u001b[39;00m:\n\u001b[0;32m--> 178\u001b[0m     \u001b[39mraise\u001b[39;00m \u001b[39mself\u001b[39m\u001b[39m.\u001b[39m_exception\n\u001b[1;32m    179\u001b[0m \u001b[39mreturn\u001b[39;00m \u001b[39mself\u001b[39m\u001b[39m.\u001b[39m_result\n",
      "File \u001b[0;32m/usr/local/lib/python3.8/asyncio/selector_events.py:528\u001b[0m, in \u001b[0;36mBaseSelectorEventLoop._sock_connect_cb\u001b[0;34m(self, fut, sock, address)\u001b[0m\n\u001b[1;32m    525\u001b[0m     err \u001b[39m=\u001b[39m sock\u001b[39m.\u001b[39mgetsockopt(socket\u001b[39m.\u001b[39mSOL_SOCKET, socket\u001b[39m.\u001b[39mSO_ERROR)\n\u001b[1;32m    526\u001b[0m     \u001b[39mif\u001b[39;00m err \u001b[39m!=\u001b[39m \u001b[39m0\u001b[39m:\n\u001b[1;32m    527\u001b[0m         \u001b[39m# Jump to any except clause below.\u001b[39;00m\n\u001b[0;32m--> 528\u001b[0m         \u001b[39mraise\u001b[39;00m \u001b[39mOSError\u001b[39;00m(err, \u001b[39mf\u001b[39m\u001b[39m'\u001b[39m\u001b[39mConnect call failed \u001b[39m\u001b[39m{\u001b[39;00maddress\u001b[39m}\u001b[39;00m\u001b[39m'\u001b[39m)\n\u001b[1;32m    529\u001b[0m \u001b[39mexcept\u001b[39;00m (\u001b[39mBlockingIOError\u001b[39;00m, \u001b[39mInterruptedError\u001b[39;00m):\n\u001b[1;32m    530\u001b[0m     \u001b[39m# socket is still registered, the callback will be retried later\u001b[39;00m\n\u001b[1;32m    531\u001b[0m     \u001b[39mpass\u001b[39;00m\n",
      "\u001b[0;31mConnectionRefusedError\u001b[0m: [Errno 111] Connect call failed ('127.0.0.1', 5432)"
     ]
    }
   ],
   "source": [
    "!wget -nc \"https://raw.githubusercontent.com/georgia-tech-db/eva/master/tutorials/00-start-eva-server.ipynb\"\n",
    "%run 00-start-eva-server.ipynb\n",
    "cursor = connect_to_server()"
   ]
  },
  {
   "attachments": {},
   "cell_type": "markdown",
   "id": "93777906",
   "metadata": {
    "pycharm": {
     "name": "#%% md\n"
    }
   },
   "source": [
    "### Load the Memes for analysis"
   ]
  },
  {
   "cell_type": "code",
   "execution_count": null,
   "id": "6b0280af",
   "metadata": {
    "pycharm": {
     "name": "#%%\n"
    }
   },
   "outputs": [
    {
     "ename": "SystemError",
     "evalue": "EVA does not support concurrent queries.                     Call fetch_all() to complete the pending query",
     "output_type": "error",
     "traceback": [
      "\u001b[0;31m---------------------------------------------------------------------------\u001b[0m",
      "\u001b[0;31mSystemError\u001b[0m                               Traceback (most recent call last)",
      "Cell \u001b[0;32mIn[16], line 1\u001b[0m\n\u001b[0;32m----> 1\u001b[0m cursor\u001b[39m.\u001b[39;49mexecute(\u001b[39m'\u001b[39;49m\u001b[39mDROP TABLE IF EXISTS MemeImages;\u001b[39;49m\u001b[39m'\u001b[39;49m)\n\u001b[1;32m      2\u001b[0m response \u001b[39m=\u001b[39m cursor\u001b[39m.\u001b[39mfetch_all()\n\u001b[1;32m      3\u001b[0m \u001b[39mprint\u001b[39m(response)\n",
      "File \u001b[0;32m~/.local/lib/python3.8/site-packages/eva/server/db_api.py:116\u001b[0m, in \u001b[0;36mEVACursor.__getattr__.<locals>.func_sync\u001b[0;34m(*args, **kwargs)\u001b[0m\n\u001b[1;32m    114\u001b[0m \u001b[39mdef\u001b[39;00m \u001b[39mfunc_sync\u001b[39m(\u001b[39m*\u001b[39margs, \u001b[39m*\u001b[39m\u001b[39m*\u001b[39mkwargs):\n\u001b[1;32m    115\u001b[0m     loop \u001b[39m=\u001b[39m asyncio\u001b[39m.\u001b[39mget_event_loop()\n\u001b[0;32m--> 116\u001b[0m     res \u001b[39m=\u001b[39m loop\u001b[39m.\u001b[39;49mrun_until_complete(func(\u001b[39m*\u001b[39;49margs, \u001b[39m*\u001b[39;49m\u001b[39m*\u001b[39;49mkwargs))\n\u001b[1;32m    117\u001b[0m     \u001b[39mreturn\u001b[39;00m res\n",
      "File \u001b[0;32m~/.local/lib/python3.8/site-packages/nest_asyncio.py:90\u001b[0m, in \u001b[0;36m_patch_loop.<locals>.run_until_complete\u001b[0;34m(self, future)\u001b[0m\n\u001b[1;32m     87\u001b[0m \u001b[39mif\u001b[39;00m \u001b[39mnot\u001b[39;00m f\u001b[39m.\u001b[39mdone():\n\u001b[1;32m     88\u001b[0m     \u001b[39mraise\u001b[39;00m \u001b[39mRuntimeError\u001b[39;00m(\n\u001b[1;32m     89\u001b[0m         \u001b[39m'\u001b[39m\u001b[39mEvent loop stopped before Future completed.\u001b[39m\u001b[39m'\u001b[39m)\n\u001b[0;32m---> 90\u001b[0m \u001b[39mreturn\u001b[39;00m f\u001b[39m.\u001b[39;49mresult()\n",
      "File \u001b[0;32m/usr/local/lib/python3.8/asyncio/futures.py:178\u001b[0m, in \u001b[0;36mFuture.result\u001b[0;34m(self)\u001b[0m\n\u001b[1;32m    176\u001b[0m \u001b[39mself\u001b[39m\u001b[39m.\u001b[39m__log_traceback \u001b[39m=\u001b[39m \u001b[39mFalse\u001b[39;00m\n\u001b[1;32m    177\u001b[0m \u001b[39mif\u001b[39;00m \u001b[39mself\u001b[39m\u001b[39m.\u001b[39m_exception \u001b[39mis\u001b[39;00m \u001b[39mnot\u001b[39;00m \u001b[39mNone\u001b[39;00m:\n\u001b[0;32m--> 178\u001b[0m     \u001b[39mraise\u001b[39;00m \u001b[39mself\u001b[39m\u001b[39m.\u001b[39m_exception\n\u001b[1;32m    179\u001b[0m \u001b[39mreturn\u001b[39;00m \u001b[39mself\u001b[39m\u001b[39m.\u001b[39m_result\n",
      "File \u001b[0;32m/usr/local/lib/python3.8/asyncio/tasks.py:280\u001b[0m, in \u001b[0;36mTask.__step\u001b[0;34m(***failed resolving arguments***)\u001b[0m\n\u001b[1;32m    276\u001b[0m \u001b[39mtry\u001b[39;00m:\n\u001b[1;32m    277\u001b[0m     \u001b[39mif\u001b[39;00m exc \u001b[39mis\u001b[39;00m \u001b[39mNone\u001b[39;00m:\n\u001b[1;32m    278\u001b[0m         \u001b[39m# We use the `send` method directly, because coroutines\u001b[39;00m\n\u001b[1;32m    279\u001b[0m         \u001b[39m# don't have `__iter__` and `__next__` methods.\u001b[39;00m\n\u001b[0;32m--> 280\u001b[0m         result \u001b[39m=\u001b[39m coro\u001b[39m.\u001b[39;49msend(\u001b[39mNone\u001b[39;49;00m)\n\u001b[1;32m    281\u001b[0m     \u001b[39melse\u001b[39;00m:\n\u001b[1;32m    282\u001b[0m         result \u001b[39m=\u001b[39m coro\u001b[39m.\u001b[39mthrow(exc)\n",
      "File \u001b[0;32m~/.local/lib/python3.8/site-packages/eva/server/db_api.py:55\u001b[0m, in \u001b[0;36mEVACursor.execute_async\u001b[0;34m(self, query)\u001b[0m\n\u001b[1;32m     51\u001b[0m \u001b[39m\u001b[39m\u001b[39m\"\"\"\u001b[39;00m\n\u001b[1;32m     52\u001b[0m \u001b[39mSend query to the EVA server.\u001b[39;00m\n\u001b[1;32m     53\u001b[0m \u001b[39m\"\"\"\u001b[39;00m\n\u001b[1;32m     54\u001b[0m \u001b[39mif\u001b[39;00m \u001b[39mself\u001b[39m\u001b[39m.\u001b[39m_pending_query:\n\u001b[0;32m---> 55\u001b[0m     \u001b[39mraise\u001b[39;00m \u001b[39mSystemError\u001b[39;00m(\n\u001b[1;32m     56\u001b[0m         \u001b[39m\"\u001b[39m\u001b[39mEVA does not support concurrent queries. \u001b[39m\u001b[39m\\\u001b[39;00m\n\u001b[1;32m     57\u001b[0m \u001b[39m            Call fetch_all() to complete the pending query\u001b[39m\u001b[39m\"\u001b[39m\n\u001b[1;32m     58\u001b[0m     )\n\u001b[1;32m     59\u001b[0m query \u001b[39m=\u001b[39m \u001b[39mself\u001b[39m\u001b[39m.\u001b[39m_upload_transformation(query)\n\u001b[1;32m     60\u001b[0m \u001b[39mawait\u001b[39;00m \u001b[39mself\u001b[39m\u001b[39m.\u001b[39mconnection\u001b[39m.\u001b[39mprotocol\u001b[39m.\u001b[39msend_message(query)\n",
      "\u001b[0;31mSystemError\u001b[0m: EVA does not support concurrent queries.                     Call fetch_all() to complete the pending query"
     ]
    }
   ],
   "source": [
    "cursor.execute('DROP TABLE IF EXISTS MemeImages;')\n",
    "response = cursor.fetch_all()\n",
    "print(response)\n",
    "cursor.execute('LOAD IMAGE \"meme1.jpg\" INTO MemeImages;')\n",
    "response = cursor.fetch_all()\n",
    "print(response)\n",
    "cursor.execute('LOAD IMAGE \"meme2.jpg\" INTO MemeImages;')\n",
    "response = cursor.fetch_all()\n",
    "print(response)"
   ]
  },
  {
   "attachments": {},
   "cell_type": "markdown",
   "id": "a22be817",
   "metadata": {},
   "source": [
    "### Create OCR Extractor UDF"
   ]
  },
  {
   "cell_type": "code",
   "execution_count": null,
   "id": "37858347",
   "metadata": {},
   "outputs": [
    {
     "ename": "SystemError",
     "evalue": "EVA does not support concurrent queries.                     Call fetch_all() to complete the pending query",
     "output_type": "error",
     "traceback": [
      "\u001b[0;31m---------------------------------------------------------------------------\u001b[0m",
      "\u001b[0;31mSystemError\u001b[0m                               Traceback (most recent call last)",
      "Cell \u001b[0;32mIn[11], line 1\u001b[0m\n\u001b[0;32m----> 1\u001b[0m cursor\u001b[39m.\u001b[39;49mexecute(\u001b[39m\"\u001b[39;49m\u001b[39mDROP UDF OCRExtractor;\u001b[39;49m\u001b[39m\"\u001b[39;49m)\n\u001b[1;32m      2\u001b[0m response \u001b[39m=\u001b[39m cursor\u001b[39m.\u001b[39mfetch_all()\n\u001b[1;32m      3\u001b[0m \u001b[39mprint\u001b[39m(response)\n",
      "File \u001b[0;32m~/.local/lib/python3.8/site-packages/eva/server/db_api.py:116\u001b[0m, in \u001b[0;36mEVACursor.__getattr__.<locals>.func_sync\u001b[0;34m(*args, **kwargs)\u001b[0m\n\u001b[1;32m    114\u001b[0m \u001b[39mdef\u001b[39;00m \u001b[39mfunc_sync\u001b[39m(\u001b[39m*\u001b[39margs, \u001b[39m*\u001b[39m\u001b[39m*\u001b[39mkwargs):\n\u001b[1;32m    115\u001b[0m     loop \u001b[39m=\u001b[39m asyncio\u001b[39m.\u001b[39mget_event_loop()\n\u001b[0;32m--> 116\u001b[0m     res \u001b[39m=\u001b[39m loop\u001b[39m.\u001b[39;49mrun_until_complete(func(\u001b[39m*\u001b[39;49margs, \u001b[39m*\u001b[39;49m\u001b[39m*\u001b[39;49mkwargs))\n\u001b[1;32m    117\u001b[0m     \u001b[39mreturn\u001b[39;00m res\n",
      "File \u001b[0;32m~/.local/lib/python3.8/site-packages/nest_asyncio.py:90\u001b[0m, in \u001b[0;36m_patch_loop.<locals>.run_until_complete\u001b[0;34m(self, future)\u001b[0m\n\u001b[1;32m     87\u001b[0m \u001b[39mif\u001b[39;00m \u001b[39mnot\u001b[39;00m f\u001b[39m.\u001b[39mdone():\n\u001b[1;32m     88\u001b[0m     \u001b[39mraise\u001b[39;00m \u001b[39mRuntimeError\u001b[39;00m(\n\u001b[1;32m     89\u001b[0m         \u001b[39m'\u001b[39m\u001b[39mEvent loop stopped before Future completed.\u001b[39m\u001b[39m'\u001b[39m)\n\u001b[0;32m---> 90\u001b[0m \u001b[39mreturn\u001b[39;00m f\u001b[39m.\u001b[39;49mresult()\n",
      "File \u001b[0;32m/usr/local/lib/python3.8/asyncio/futures.py:178\u001b[0m, in \u001b[0;36mFuture.result\u001b[0;34m(self)\u001b[0m\n\u001b[1;32m    176\u001b[0m \u001b[39mself\u001b[39m\u001b[39m.\u001b[39m__log_traceback \u001b[39m=\u001b[39m \u001b[39mFalse\u001b[39;00m\n\u001b[1;32m    177\u001b[0m \u001b[39mif\u001b[39;00m \u001b[39mself\u001b[39m\u001b[39m.\u001b[39m_exception \u001b[39mis\u001b[39;00m \u001b[39mnot\u001b[39;00m \u001b[39mNone\u001b[39;00m:\n\u001b[0;32m--> 178\u001b[0m     \u001b[39mraise\u001b[39;00m \u001b[39mself\u001b[39m\u001b[39m.\u001b[39m_exception\n\u001b[1;32m    179\u001b[0m \u001b[39mreturn\u001b[39;00m \u001b[39mself\u001b[39m\u001b[39m.\u001b[39m_result\n",
      "File \u001b[0;32m/usr/local/lib/python3.8/asyncio/tasks.py:280\u001b[0m, in \u001b[0;36mTask.__step\u001b[0;34m(***failed resolving arguments***)\u001b[0m\n\u001b[1;32m    276\u001b[0m \u001b[39mtry\u001b[39;00m:\n\u001b[1;32m    277\u001b[0m     \u001b[39mif\u001b[39;00m exc \u001b[39mis\u001b[39;00m \u001b[39mNone\u001b[39;00m:\n\u001b[1;32m    278\u001b[0m         \u001b[39m# We use the `send` method directly, because coroutines\u001b[39;00m\n\u001b[1;32m    279\u001b[0m         \u001b[39m# don't have `__iter__` and `__next__` methods.\u001b[39;00m\n\u001b[0;32m--> 280\u001b[0m         result \u001b[39m=\u001b[39m coro\u001b[39m.\u001b[39;49msend(\u001b[39mNone\u001b[39;49;00m)\n\u001b[1;32m    281\u001b[0m     \u001b[39melse\u001b[39;00m:\n\u001b[1;32m    282\u001b[0m         result \u001b[39m=\u001b[39m coro\u001b[39m.\u001b[39mthrow(exc)\n",
      "File \u001b[0;32m~/.local/lib/python3.8/site-packages/eva/server/db_api.py:55\u001b[0m, in \u001b[0;36mEVACursor.execute_async\u001b[0;34m(self, query)\u001b[0m\n\u001b[1;32m     51\u001b[0m \u001b[39m\u001b[39m\u001b[39m\"\"\"\u001b[39;00m\n\u001b[1;32m     52\u001b[0m \u001b[39mSend query to the EVA server.\u001b[39;00m\n\u001b[1;32m     53\u001b[0m \u001b[39m\"\"\"\u001b[39;00m\n\u001b[1;32m     54\u001b[0m \u001b[39mif\u001b[39;00m \u001b[39mself\u001b[39m\u001b[39m.\u001b[39m_pending_query:\n\u001b[0;32m---> 55\u001b[0m     \u001b[39mraise\u001b[39;00m \u001b[39mSystemError\u001b[39;00m(\n\u001b[1;32m     56\u001b[0m         \u001b[39m\"\u001b[39m\u001b[39mEVA does not support concurrent queries. \u001b[39m\u001b[39m\\\u001b[39;00m\n\u001b[1;32m     57\u001b[0m \u001b[39m            Call fetch_all() to complete the pending query\u001b[39m\u001b[39m\"\u001b[39m\n\u001b[1;32m     58\u001b[0m     )\n\u001b[1;32m     59\u001b[0m query \u001b[39m=\u001b[39m \u001b[39mself\u001b[39m\u001b[39m.\u001b[39m_upload_transformation(query)\n\u001b[1;32m     60\u001b[0m \u001b[39mawait\u001b[39;00m \u001b[39mself\u001b[39m\u001b[39m.\u001b[39mconnection\u001b[39m.\u001b[39mprotocol\u001b[39m.\u001b[39msend_message(query)\n",
      "\u001b[0;31mSystemError\u001b[0m: EVA does not support concurrent queries.                     Call fetch_all() to complete the pending query"
     ]
    }
   ],
   "source": [
    "cursor.execute(\"DROP UDF OCRExtractor;\")\n",
    "response = cursor.fetch_all()\n",
    "print(response)\n",
    "cursor.execute(\"\"\"CREATE UDF IF NOT EXISTS OCRExtractor\n",
    "      INPUT  (frame NDARRAY UINT8(3, ANYDIM, ANYDIM))\n",
    "      OUTPUT (labels NDARRAY STR(ANYDIM), bboxes NDARRAY FLOAT32(ANYDIM, 4),\n",
    "              scores NDARRAY FLOAT32(ANYDIM))\n",
    "      TYPE  Classification\n",
    "      IMPL  'ocr_extractor.py';\n",
    "      \"\"\")\n",
    "response = cursor.fetch_all()\n",
    "print(response)"
   ]
  },
  {
   "attachments": {},
   "cell_type": "markdown",
   "id": "c943434e",
   "metadata": {},
   "source": [
    "### Create Custom UDF for Toxicity Classification"
   ]
  },
  {
   "cell_type": "code",
   "execution_count": null,
   "id": "9b54c297",
   "metadata": {
    "pycharm": {
     "name": "#%%\n"
    }
   },
   "outputs": [
    {
     "ename": "",
     "evalue": "",
     "output_type": "error",
     "traceback": [
      "\u001b[1;31mRunning cells with '/usr/bin/python3.10' requires ipykernel package.\n",
      "\u001b[1;31mRun the following command to install 'ipykernel' into the Python environment. \n",
      "\u001b[1;31mCommand: '/usr/bin/python3.10 -m pip install ipykernel -U --user --force-reinstall'"
     ]
    }
   ],
   "source": [
    "cursor.execute(\"DROP UDF IF EXISTS ToxicityClassifier;\")\n",
    "response = cursor.fetch_all()\n",
    "print(response)\n",
    "cursor.execute(\"\"\"CREATE UDF IF NOT EXISTS ToxicityClassifier\n",
    "                  INPUT  (text NDARRAY STR(100))\n",
    "                  OUTPUT (labels NDARRAY STR(10))\n",
    "                  TYPE  Classification\n",
    "                  IMPL  'eva/udfs/toxicity_classifier.py\n",
    "      \"\"\") \n",
    "response = cursor.fetch_all()\n",
    "print(response)"
   ]
  },
  {
   "attachments": {},
   "cell_type": "markdown",
   "id": "296b93a8",
   "metadata": {
    "pycharm": {
     "name": "#%% md\n"
    }
   },
   "source": [
    "### Run Toxicity Classifier on OCR Extracted from Images"
   ]
  },
  {
   "cell_type": "code",
   "execution_count": null,
   "id": "b989e7e2",
   "metadata": {
    "pycharm": {
     "name": "#%%\n"
    }
   },
   "outputs": [
    {
     "ename": "",
     "evalue": "",
     "output_type": "error",
     "traceback": [
      "\u001b[1;31mRunning cells with '/usr/bin/python3.10' requires ipykernel package.\n",
      "\u001b[1;31mRun the following command to install 'ipykernel' into the Python environment. \n",
      "\u001b[1;31mCommand: '/usr/bin/python3.10 -m pip install ipykernel -U --user --force-reinstall'"
     ]
    }
   ],
   "source": [
    "cursor.execute(\"\"\"SELECT OCRExtractor(data).labels,\n",
    "                  ToxicityClassifier(OCRExtractor(data).labels)\n",
    "                  FROM MemeImages;\"\"\")\n",
    "response = cursor.fetch_all()\n",
    "print(response)"
   ]
  },
  {
   "attachments": {},
   "cell_type": "markdown",
   "id": "058dee7a",
   "metadata": {
    "pycharm": {
     "name": "#%% md\n"
    }
   },
   "source": [
    "### Visualize Model Output on Images"
   ]
  },
  {
   "cell_type": "code",
   "execution_count": null,
   "id": "6a6e2234",
   "metadata": {
    "pycharm": {
     "name": "#%%\n"
    }
   },
   "outputs": [
    {
     "ename": "",
     "evalue": "",
     "output_type": "error",
     "traceback": [
      "\u001b[1;31mRunning cells with '/usr/bin/python3.10' requires ipykernel package.\n",
      "\u001b[1;31mRun the following command to install 'ipykernel' into the Python environment. \n",
      "\u001b[1;31mCommand: '/usr/bin/python3.10 -m pip install ipykernel -U --user --force-reinstall'"
     ]
    }
   ],
   "source": [
    "from pprint import pprint\n",
    "from matplotlib import pyplot as plt\n",
    "import cv2\n",
    "import numpy as np\n",
    "\n",
    "def annotate_image(detections, input_video_path):\n",
    "\n",
    "    print(detections)\n",
    "\n",
    "    color1=(207, 248, 64)\n",
    "    color2=(255, 49, 49)\n",
    "    thickness=4\n",
    "\n",
    "    vcap = cv2.VideoCapture(input_video_path)\n",
    "    width = int(vcap.get(3))\n",
    "    height = int(vcap.get(4))\n",
    "\n",
    "\n",
    "    # Only looking at the first frame for now\n",
    "    frame_id = 0\n",
    "    ret, frame = vcap.read()\n",
    "    plates_in_all_frames = []\n",
    "\n",
    "    while ret:\n",
    "        df = detections\n",
    "        df = df[['carplatedetector.results']][df.index == frame_id]\n",
    "\n",
    "        if df.size:\n",
    "            dfList = df.values.tolist()\n",
    "            mask = np.array(dfList[0][0])\n",
    "            mask = mask.astype(np.uint8)\n",
    "\n",
    "            contours, hierarchy = cv2.findContours(\n",
    "                mask, cv2.RETR_TREE, cv2.CHAIN_APPROX_SIMPLE)\n",
    "\n",
    "            plt.imshow(frame)\n",
    "            plt.show()\n",
    "\n",
    "            plates_within_this_frame = []\n",
    "            for j, c in enumerate(contours):\n",
    "                x,y,w,h = cv2.boundingRect(c)\n",
    "                plate = frame[y:y+h, x:x+w]\n",
    "                plates_within_this_frame.append(plate)\n",
    "\n",
    "                image_file_name = \"frame\" + str(frame_id)+ \"_plate\" + str(j) + \".png\"\n",
    "\n",
    "                cv2.imwrite(image_file_name, plate)\n",
    "\n",
    "                cv2.drawContours(frame, [c], 0,color2, 5)\n",
    "\n",
    "                plt.imshow(plate)\n",
    "                plt.show()\n",
    "\n",
    "            plt.imshow(frame)\n",
    "            plt.show()\n",
    "\n",
    "            plates_in_all_frames.append(plates_within_this_frame)\n",
    "            \n",
    "        frame_id+=1\n",
    "\n",
    "        ret, frame = vcap.read()\n",
    "\n",
    "    return plates_in_all_frames\n"
   ]
  },
  {
   "cell_type": "code",
   "execution_count": null,
   "id": "e2668e08",
   "metadata": {
    "pycharm": {
     "name": "#%%\n"
    }
   },
   "outputs": [
    {
     "ename": "",
     "evalue": "",
     "output_type": "error",
     "traceback": [
      "\u001b[1;31mRunning cells with '/usr/bin/python3.10' requires ipykernel package.\n",
      "\u001b[1;31mRun the following command to install 'ipykernel' into the Python environment. \n",
      "\u001b[1;31mCommand: '/usr/bin/python3.10 -m pip install ipykernel -U --user --force-reinstall'"
     ]
    }
   ],
   "source": [
    "from ipywidgets import Image\n",
    "input_path = 'frame0_plate0.png'\n",
    "output_path = 'frame0_plate0_output.png'\n",
    "dataframe = response.batch.frames\n",
    "annotate_image(dataframe, input_path, output_path)"
   ]
  }
 ],
 "metadata": {
  "kernelspec": {
   "display_name": "Python 3",
   "language": "python",
   "name": "python3"
  },
  "language_info": {
   "codemirror_mode": {
    "name": "ipython",
    "version": 3
   },
   "file_extension": ".py",
   "mimetype": "text/x-python",
   "name": "python",
   "nbconvert_exporter": "python",
   "pygments_lexer": "ipython3",
   "version": "3.8.13"
  },
  "vscode": {
   "interpreter": {
    "hash": "0adcc2737ebf6a4a119f135174df96668767fca1ef1112612db5ecadf2b6d608"
   }
  }
 },
 "nbformat": 4,
 "nbformat_minor": 5
}
